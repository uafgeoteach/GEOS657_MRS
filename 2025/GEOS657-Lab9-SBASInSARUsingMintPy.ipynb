{
 "cells": [
  {
   "cell_type": "markdown",
   "metadata": {},
   "source": [
    "<img src=\"Figs/Banner.png\" width=\"100%\" />\n",
    "<br>\n",
    "<font size=\"7\"> <b> GEOS 657 Microwave Remote Sensing <b> </font>\n",
    "\n",
    "<font size=\"5\"> <b> Lab 9: InSAR Time Series Analysis using MintPy and ARIA products<font color='rgba(200,0,0,0.2)'>  -- [20 Points] </font></b> </font>\n",
    "<br>\n",
    "<font size=\"4\" color='rgba(200,0,0,0.2)'><b>Assignment Due Date: </b> April 24, 2025</font>\n",
    "<br> <img src=\"Figs/NASALogo.png\" width=\"250\" align=\"right\" /> <br> \n",
    "<font size=\"4\"> <b> Franz J Meyer, Eric Fielding, David Bekaert, Heresh Fattahi and Zhang Yunjun</b> \n",
    "<font size=\"3\">  <br>\n",
    "</font>\n",
    "\n",
    "This notebook includes contributions from Eric Fielding, David Bekaert, Heresh Fattahi and Zhang Yunjun. It is a modification from the [original](https://nbviewer.jupyter.org/github/insarlab/MintPy-tutorial/blob/main/smallbaselineApp_aria.ipynb) by Heresh Fattahi and Zhang Yunjun. "
   ]
  },
  {
   "cell_type": "markdown",
   "metadata": {},
   "source": [
    "**Background**: Pre-processed InSAR data are not only available from ASF. The Caltech-JPL ARIA project has been generating surface displacement products (interferograms) for many geophysically-relevant regions of Earth. These interferograms are stored at the NASA ASF DAAC ready for your access with an Open Source set of tools that include ARIA-tools, and the Miami Insar Timeseries software in PYthon (MintPy). MintPy is an open-source package for InSAR time-series analysis. It is fully compatible with data from ARIA and data you may generate using ASF's services. \n",
    "\n",
    "The Jupyter notebook presented here uses a landslide displacement example to explore InSAR time-series analysis using MintPy. Specifically, we are looking at landslide motion on the Palos Verdes peninsula. "
   ]
  },
  {
   "cell_type": "markdown",
   "metadata": {
    "hidePrompt": true
   },
   "source": [
    "<font face=\"Calibri\" size=\"3\">\n",
    "<div class=\"alert alert-success\">\n",
    " \n",
    "<b>This notebook uses data that was staged in an AWS S3 data bucket so that they can be easily downloaded into the OpenSARLab:</b>\n",
    "    \n",
    "```!aws --region=us-west-2 --no-sign-request s3 cp s3://asf-jupyter-data-west/Fielding/Stack.zip Stack.zip```\n",
    "\n",
    "When users are not leveraging openSARlabs, they should start from ARIA-tools as download from S3 will not work.\n",
    "</div>\n",
    "</font>"
   ]
  },
  {
   "cell_type": "markdown",
   "metadata": {},
   "source": [
    "<font face=\"Calibri\" size=\"3\">\n",
    "<div class=\"alert alert-success\">\n",
    "<b>To generate the staged data from scratch, you could use ARIA-Tools functionality following a series of commands such as these</b> \n",
    "\n",
    "```!ariaDownload.py -b '33.5 34.5 -119.0 -117.9' --track 71```\n",
    "    \n",
    "```!ariaTSsetup.py -f 'products/*.nc' -b '33.65 33.9 -118.45 -118.15' --mask Download```\n",
    "    \n",
    "```!smallbaselineApp.py -t LASenDT71.txt --dostep load_data```\n",
    "    \n",
    "\n",
    "</div>\n",
    "</font>"
   ]
  },
  {
   "cell_type": "markdown",
   "metadata": {},
   "source": [
    "<div class=\"alert alert-danger\">\n",
    "<font size=\"4\"> <font color='rgba(200,0,0,0.2)'> <b>THIS NOTEBOOK INCLUDES FOUR HOMEWORK ASSIGNMENTS.</b></font> \n",
    "<br> \n",
    "<font size=\"3\">The homework assignments in this lab are indicated by markdown fields with <font color='rgba(200,0,0,0.2)'><b>red background</b></font>. Please complete these assignments to achieve full score. <br>\n",
    "\n",
    "To submit your homework, please download your completed Jupyter Notebook from the server both as PDF (*.pdf) and Notebook file (*.ipynb) and submit them as a ZIP bundle via the GEOS 639 Canvas page. To download, please select the following options in the main menu of the notebook interface:\n",
    "\n",
    "<ol type=\"1\">\n",
    "  <li><font color='rgba(200,0,0,0.2)'> <b> Save your notebook with all of its content</b></font> by selecting <i> File / Save and Checkpoint </i> </li>\n",
    "  <li><font color='rgba(200,0,0,0.2)'> <b>To export in Notebook format</b></font>, click the <i>radio button next to the notebook file in the main Jupyter Hub browser tab. Once clicked, a download field will appear near the top of the page.</i></li>\n",
    "  <li><font color='rgba(200,0,0,0.2)'> It is a two step process <b>to export in PDF format</b></font>: First, go to <i>File / Save and Export Notebook As ... / HTML</i>. Open the resulting HTML file in your browser and then right click and print the page to PDF. While a bit clunky, this gives you the best looking version of the notebook!</li>\n",
    "</ol>\n",
    "\n",
    "Contact me at fjmeyer@alaska.edu should you run into any problems.\n",
    "</font>\n",
    "</font>\n",
    "</div>"
   ]
  },
  {
   "cell_type": "markdown",
   "metadata": {},
   "source": [
    "<hr>"
   ]
  },
  {
   "cell_type": "markdown",
   "metadata": {},
   "source": [
    "<div class=\"alert alert-danger\">\n",
    "<font size=\"4\"> <font color='rgba(200,0,0,0.2)'> <b>THIS NOTEBOOK REQUIRES THE <i>opensarlab_mintpy_recipe_book</i> KERNEL.</b></font> \n"
   ]
  },
  {
   "cell_type": "markdown",
   "metadata": {},
   "source": [
    "<hr>"
   ]
  },
  {
   "cell_type": "markdown",
   "metadata": {
    "heading_collapsed": true
   },
   "source": [
    "# 0. Notebook setup"
   ]
  },
  {
   "cell_type": "markdown",
   "metadata": {
    "heading_collapsed": true
   },
   "source": [
    "## 0.1. Import Python Libraries and Set Environment Variables"
   ]
  },
  {
   "cell_type": "markdown",
   "metadata": {
    "hidden": true
   },
   "source": [
    "The two cells below must be run each time the notebook is started to ensure correct set-up of the notebook."
   ]
  },
  {
   "cell_type": "code",
   "execution_count": null,
   "metadata": {
    "hidden": true
   },
   "outputs": [],
   "source": [
    "import os\n",
    "import zipfile\n",
    "import numpy as np\n",
    "\n",
    "# verify mintpy install is complete:\n",
    "try:\n",
    "#    from mintpy.objects.insar_vs_gps import plot_insar_vs_gps_scatter\n",
    "#    import mintpy.tsview\n",
    "#    from mintpy.tsview import timeseriesViewer\n",
    "#    from mintpy import view, tsview, plot_network, plot_transection, plot_coherence_matrix\n",
    "    from mintpy.cli import view, tsview, plot_network, plot_transection, plot_coherence_matrix\n",
    "    import mintpy.plot_coherence_matrix\n",
    "    import mintpy.objects.insar_vs_gnss\n",
    "    import mintpy.utils\n",
    "    from mintpy.utils import plot\n",
    "except ImportError:\n",
    "    raise ImportError(\"Looks like mintPy is not fully installed\")\n",
    "\n",
    "def write_config_file(out_file, CONFIG_TXT, mode='a'): \n",
    "    \"\"\"Write configuration files for MintPy to process ARIA sample products\"\"\"\n",
    "    if not os.path.isfile(out_file) or mode == 'w':\n",
    "        with open(out_file, \"w\") as fid:\n",
    "            fid.write(CONFIG_TXT)\n",
    "        print('write configuration to file: {}'.format(out_file))\n",
    "    else:\n",
    "        with open(out_file, \"a\") as fid:\n",
    "            fid.write(\"\\n\" + CONFIG_TXT)\n",
    "        print('add the following to file: \\n{}'.format(CONFIG_TXT))\n",
    "\n",
    "\n",
    "import opensarlab_lib as asfn\n",
    "from osgeo import gdal\n",
    "import contextlib\n",
    "import csv\n",
    "from datetime import datetime\n",
    "import h5py\n",
    "import os\n",
    "from pathlib import Path\n",
    "import re\n",
    "import urllib\n",
    "import zipfile\n",
    "import mintpy.objects.insar_vs_gnss\n",
    "import mintpy.utils"
   ]
  },
  {
   "cell_type": "code",
   "execution_count": null,
   "metadata": {
    "hidden": true
   },
   "outputs": [],
   "source": [
    "# define the work directory\n",
    "work_dir = f\"{os.path.abspath(os.getcwd())}/data_LA\"\n",
    "print(\"Work directory: \", work_dir)\n",
    "if not os.path.isdir(work_dir):\n",
    "    os.makedirs(work_dir)\n",
    "    print(f'Create directory: {work_dir}')\n",
    "print(f'Go to work directory: {work_dir}')\n",
    "os.chdir(work_dir)  \n",
    "    \n",
    "if not os.path.isfile('Stack.zip'):\n",
    "    !aws --region=us-west-2 --no-sign-request s3 cp s3://asf-jupyter-data-west/Fielding/Stack.zip Stack.zip \n",
    "      \n",
    "# verify if download was succesfull\n",
    "if os.path.isfile('Stack.zip'):\n",
    "    with zipfile.ZipFile('Stack.zip', 'r') as zip_ref:\n",
    "        zip_ref.extractall(os.getcwd())\n",
    "    print('S3 pre-staged data retrieval was successfull')\n",
    "else:\n",
    "    print(\"Download outside OpenSarLab is not supported.\\nAs alternative please start from ARIA-tools with the commandline calls provided at the top of this notebook\")          \n"
   ]
  },
  {
   "cell_type": "markdown",
   "metadata": {},
   "source": [
    "## 0.2 **[If you Want to Start from Scratch]** -- Load and Prepare InSAR data Using ARIA-Tools"
   ]
  },
  {
   "cell_type": "markdown",
   "metadata": {},
   "source": [
    "<div class=\"alert alert-success\">\n",
    "The following three code cells are commented out. Please only uncomment them if you want to start data preparation from scratch.\n",
    "<br><br>\n",
    "\n",
    "**Note:** ARIA-Tools is one possible mechanism to prepare data for MintPy. Other's include services provided by the Alaska Satellite Facility. You will learn about those in the next lab.\n",
    "</div>"
   ]
  },
  {
   "cell_type": "markdown",
   "metadata": {
    "hidden": true
   },
   "source": [
    "<font face=\"Calibri\" size=\"3\">The following command will download all the ARIA standard products over the LA area, which is 575 products at the time of this writing. This will take more than two hours to complete if the data is not already downloaded.</font>"
   ]
  },
  {
   "cell_type": "code",
   "execution_count": null,
   "metadata": {
    "hidden": true
   },
   "outputs": [],
   "source": [
    "# download data for descending track 71 over Los Angeles area\n",
    "#!ariaDownload.py -b '33.5 34.5 -119.0 -117.9' --track 71"
   ]
  },
  {
   "cell_type": "markdown",
   "metadata": {
    "hidden": true
   },
   "source": [
    "<font face=\"Calibri\" size=\"3\">This ARIA time-series setup would cover the whole Los Angeles area and would take a while to process, so we are skipping this setup.</font>"
   ]
  },
  {
   "cell_type": "code",
   "execution_count": null,
   "metadata": {
    "hidden": true
   },
   "outputs": [],
   "source": [
    "#!ariaTSsetup.py -f 'products/*.nc' -b '33.5 34.5 -119.0 -117.9' --mask Download"
   ]
  },
  {
   "cell_type": "markdown",
   "metadata": {
    "hidden": true
   },
   "source": [
    "<font face=\"Calibri\" size=\"3\">The following ARIA time-series setup `ariaTSsetup.py` extracts the data that covers only a small area around the Palos Verdes peninsula southwest of Los Angeles to speed the time-series processing, which we specify with the bounding box. We also download the water mask to avoid using data over the ocean.</font>"
   ]
  },
  {
   "cell_type": "code",
   "execution_count": null,
   "metadata": {
    "hidden": true
   },
   "outputs": [],
   "source": [
    "#!ariaTSsetup.py -f 'products/*.nc' -b '33.65 33.9 -118.45 -118.15' --mask Download"
   ]
  },
  {
   "cell_type": "markdown",
   "metadata": {},
   "source": [
    "<hr>"
   ]
  },
  {
   "cell_type": "markdown",
   "metadata": {
    "heading_collapsed": true
   },
   "source": [
    "# 1. smallbaselineApp.py Overview"
   ]
  },
  {
   "cell_type": "markdown",
   "metadata": {
    "hidden": true
   },
   "source": [
    "<font face=\"Calibri\" size=\"3\">This application provides a workflow which includes several steps to invert a stack of unwrapped interferograms and apply different corrections to obtain ground displacement timeseries.  \n",
    "The workflow consists of two main blocks:\n",
    "\n",
    "* correcting unwrapping errors and inverting for the raw phase time-series (blue ovals),\n",
    "* correcting for noise from different sources to obtain the displacement time-series (green ovals).\n",
    "\n",
    "Some steps are optional, which are switched off by default (marked by dashed boundaries). Configuration parameters for each step are initiated with default values in a customizable text file: **[smallbaselineApp.cfg](https://github.com/insarlab/MintPy/blob/master/mintpy/defaults/smallbaselineApp.cfg)**. In this notebook, we will walk through some of these steps, for a complete example see the **[MintPy repository](https://github.com/insarlab/MintPy)**.\n",
    "\n",
    "<p align=\"left\">\n",
    "  <img width=\"600\" src=\"NotebookAddons/MintPyWorkflow.jpg\">\n",
    "</p>     \n",
    "<p style=\"text-align: center;\">\n",
    "    (Figure from Yunjun et al., 2019)\n",
    "</p>\n",
    "</font>"
   ]
  },
  {
   "cell_type": "markdown",
   "metadata": {
    "heading_collapsed": true,
    "hidden": true
   },
   "source": [
    "## 1.1 Processing Steps of smallbaselineApp.py"
   ]
  },
  {
   "cell_type": "markdown",
   "metadata": {
    "hidden": true
   },
   "source": [
    "<font face=\"Calibri\" size=\"3\">The MintPy **smallbaselineApp.py** application provides a workflow to invert a stack of unwrapped interferograms and apply different (often optional) corrections to obtain ground displacement timeseries. A detailed overview of the options can be retrieved by involking the help option:</font>"
   ]
  },
  {
   "cell_type": "code",
   "execution_count": null,
   "metadata": {
    "hidden": true
   },
   "outputs": [],
   "source": [
    "!smallbaselineApp.py --help"
   ]
  },
  {
   "cell_type": "markdown",
   "metadata": {
    "heading_collapsed": true,
    "hidden": true
   },
   "source": [
    "## 1.2 Configuring Processing Parameters"
   ]
  },
  {
   "cell_type": "markdown",
   "metadata": {
    "hidden": true
   },
   "source": [
    "<font face=\"Calibri\" size=\"3\">The processing parameters for the **smallbaselineApp.py** are controlled through a configuration file. If no file is provided the default **[smallbaselineApp.cfg](https://github.com/insarlab/MintPy/blob/master/mintpy/defaults/smallbaselineApp.cfg)** configuration is used. Here we use **`LASenDT71.txt`**, which already contains selected, manually modified configuration parameters for this time-series analysis.</font>"
   ]
  },
  {
   "cell_type": "markdown",
   "metadata": {},
   "source": [
    "<hr>"
   ]
  },
  {
   "cell_type": "markdown",
   "metadata": {
    "heading_collapsed": true
   },
   "source": [
    "# 2. Small Baseline Time Series Analysis"
   ]
  },
  {
   "cell_type": "markdown",
   "metadata": {
    "heading_collapsed": true,
    "hidden": true
   },
   "source": [
    "## 2.1. Loading ARIA data into MintPy"
   ]
  },
  {
   "cell_type": "markdown",
   "metadata": {
    "hidden": true
   },
   "source": [
    "<font face=\"Calibri\" size=\"3\">The **[ARIA-tools package](https://github.com/aria-tools/ARIA-tools)** is used as a pre-processor for MintPY. It has a download tool that wraps around the ASF DAAC API, and includes tools for stitching/cropping and time-series preparation. The output of the time-series preparation is compatible with the [data directory](https://mintpy.readthedocs.io/en/latest/dir_structure/) structure from MintPy. To save time, we have already pre-ran these steps. The commands used were:\n",
    "\n",
    "```!ariaDownload.py -b '33.5 34.5 -119.0 -117.9' --track 71```\n",
    "\n",
    "```!ariaTSsetup.py -f 'products/*.nc' -b '33.65 33.9 -118.45 -118.15' --mask Download```\n",
    "</font>"
   ]
  },
  {
   "cell_type": "markdown",
   "metadata": {
    "hidden": true
   },
   "source": [
    "<font face=\"Calibri\" size=\"3\">The `ariaTSsetup.py` step above (or the pre-processed Stack.zip) extracted the data for the subset we specified and found a total of 439 products that cover our study area. Now we load the data for the subset area into MintPy.</font>"
   ]
  },
  {
   "cell_type": "code",
   "execution_count": null,
   "metadata": {
    "hidden": true
   },
   "outputs": [],
   "source": [
    "# define the MintPy time-series directory\n",
    "mint_dir = work_dir+'/MintPy'\n",
    "print(\"MintPy directory: \", mint_dir)\n",
    "if not os.path.isdir(mint_dir):\n",
    "    os.makedirs(mint_dir)\n",
    "    print('Create directory: {}'.format(mint_dir))\n",
    "\n",
    "# copy the configuration file\n",
    "os.chdir(work_dir)  \n",
    "!cp LASenDT71.txt MintPy\n",
    "\n",
    "print('Go to work directory: {}'.format(mint_dir))\n",
    "os.chdir(mint_dir)  \n",
    "\n",
    "!smallbaselineApp.py LASenDT71.txt --dostep load_data"
   ]
  },
  {
   "cell_type": "markdown",
   "metadata": {
    "hidden": true
   },
   "source": [
    "<font face=\"Calibri\" size=\"3\">The output of the loading step is an \"inputs\" directory containing two HDF5 files:\n",
    "- ifgramStack.h5: This file contains 6 dataset cubes (e.g. unwrapped phase, coherence, connected components etc.) and multiple metadata.  \n",
    "- geometryGeo.h5: This file contains geometrical datasets (e.g., incidence/azimuth angle, masks, etc.). \n",
    "</font>"
   ]
  },
  {
   "cell_type": "code",
   "execution_count": null,
   "metadata": {
    "hidden": true
   },
   "outputs": [],
   "source": [
    "!ls inputs"
   ]
  },
  {
   "cell_type": "markdown",
   "metadata": {
    "hidden": true
   },
   "source": [
    "<font face=\"Calibri\" size=\"3\">\n",
    "<div class=\"alert alert-success\">\n",
    "<b>info.py :</b> \n",
    "To get general infomation about a MintPy product, run info.py on the file.   \n",
    "</div>\n",
    "</font>"
   ]
  },
  {
   "cell_type": "code",
   "execution_count": null,
   "metadata": {
    "hidden": true
   },
   "outputs": [],
   "source": [
    "!info.py inputs/ifgramStack.h5"
   ]
  },
  {
   "cell_type": "code",
   "execution_count": null,
   "metadata": {
    "hidden": true
   },
   "outputs": [],
   "source": [
    "!info.py inputs/geometryGeo.h5"
   ]
  },
  {
   "cell_type": "markdown",
   "metadata": {
    "heading_collapsed": true,
    "hidden": true
   },
   "source": [
    "## 2.2. Plotting the Interferogram Network"
   ]
  },
  {
   "cell_type": "markdown",
   "metadata": {
    "hidden": true
   },
   "source": [
    "<font face=\"Calibri\" size=\"3\">Running **plot_network.py** gives an overview of the network and the average coherence of the stack. The program creates multiple files as follows:\n",
    "- ifgramStack_coherence_spatialAvg.txt: Contains interferogram dates, average coherence temporal and spatial baseline separation.\n",
    "- Network.pdf: Displays the network of interferograms on time-baseline coordinates, colorcoded by average coherence of the interferograms. \n",
    "- CoherenceMatrix.pdf shows the average coherence pairs between all available pairs in the stack.\n",
    "</font>"
   ]
  },
  {
   "cell_type": "code",
   "execution_count": null,
   "metadata": {
    "hidden": true
   },
   "outputs": [],
   "source": [
    "!smallbaselineApp.py LASenDT71.txt  --dostep modify_network\n",
    "plot_network.main(['inputs/ifgramStack.h5'])"
   ]
  },
  {
   "cell_type": "markdown",
   "metadata": {
    "heading_collapsed": true,
    "hidden": true
   },
   "source": [
    "## 2.3.  Mask Generation"
   ]
  },
  {
   "cell_type": "markdown",
   "metadata": {
    "hidden": true
   },
   "source": [
    "<font face=\"Calibri\" size=\"3\">Before running the time-series inversion, one may want to looks at average coherence in the stack. To create a map of average spatial coherence use `temporal_average.py`:</font>"
   ]
  },
  {
   "cell_type": "code",
   "execution_count": null,
   "metadata": {},
   "outputs": [],
   "source": [
    "!temporal_average.py ./inputs/ifgramStack.h5 -d coherence -o avgSpatialCoh.h5\n",
    "view.main('avgSpatialCoh.h5 --noverbose'.split())"
   ]
  },
  {
   "cell_type": "markdown",
   "metadata": {},
   "source": [
    "<font face=\"Calibri\" size=\"3\"><b>Mask files</b> can be can be used to mask pixels in the time-series processing. Below we generate a mask file based on the connected components, which is a metric for unwrapping quality.</font>"
   ]
  },
  {
   "cell_type": "code",
   "execution_count": null,
   "metadata": {
    "hidden": true
   },
   "outputs": [],
   "source": [
    "!generate_mask.py  inputs/ifgramStack.h5  --nonzero  -o maskConnComp.h5  --update\n",
    "view.main(['maskConnComp.h5'])"
   ]
  },
  {
   "cell_type": "markdown",
   "metadata": {
    "heading_collapsed": true,
    "hidden": true
   },
   "source": [
    "## 2.4 Reference Point Selection\n"
   ]
  },
  {
   "cell_type": "markdown",
   "metadata": {
    "hidden": true
   },
   "source": [
    "<font face=\"Calibri\" size=\"3\">The interferometric phase is a relative observation by nature. The phases of each unwrapped interferogram are relative with respect to an arbitrary pixel. Therfore we need to reference all interferograms to a common reference pixel.\n",
    "The step \"reference_point\" selects a common reference pixel for the stack of interferograms. The default approach of mintpy is to choose a pixel with highest spatial coherence in the stack. Other options include specifying the longitude and latitude of the desired reference pixel or the line and column number of the refence pixel.</font>"
   ]
  },
  {
   "cell_type": "code",
   "execution_count": null,
   "metadata": {
    "hidden": true
   },
   "outputs": [],
   "source": [
    "!smallbaselineApp.py LASenDT71.txt --dostep reference_point"
   ]
  },
  {
   "cell_type": "markdown",
   "metadata": {
    "hidden": true
   },
   "source": [
    "<font face=\"Calibri\" size=\"3\">Running the \"reference_step\" adds additional attributes \"REF_X, REF_Y\" and \"REF_LON, REF_LAT\" to the ifgramStack.h5 file. To see the attributes of the file run info.py:</font>"
   ]
  },
  {
   "cell_type": "code",
   "execution_count": null,
   "metadata": {
    "hidden": true
   },
   "outputs": [],
   "source": [
    "!info.py inputs/ifgramStack.h5 | egrep 'REF_'"
   ]
  },
  {
   "cell_type": "markdown",
   "metadata": {
    "hidden": true
   },
   "source": [
    "<font face=\"Calibri\" size=\"3\">In this case, I set the reference point latitude and longitude to be in a location close to the Portuguese Bend Landslide, and MintPy calculated the X and Y locations.</font>"
   ]
  },
  {
   "cell_type": "markdown",
   "metadata": {
    "heading_collapsed": true,
    "hidden": true
   },
   "source": [
    "## 2.5 Inverting the Small Baseline Network"
   ]
  },
  {
   "cell_type": "markdown",
   "metadata": {
    "hidden": true
   },
   "source": [
    "<font face=\"Calibri\" size=\"3\">In the next step we invert the network of differential unwrapped interferograms to estimate the time-series of unwrapped phase with respect to a reference acquisition date. By default mintpy selects the first acquisition. The estimated time-series is converted to distance change from radar to target and is provided in meters. </font>"
   ]
  },
  {
   "cell_type": "code",
   "execution_count": null,
   "metadata": {
    "hidden": true
   },
   "outputs": [],
   "source": [
    "!smallbaselineApp.py LASenDT71.txt --dostep invert_network"
   ]
  },
  {
   "cell_type": "markdown",
   "metadata": {
    "hidden": true
   },
   "source": [
    "<font face=\"Calibri\" size=\"3\">The timeseries file contains three datasets:\n",
    "- the \"time-series\" which is the interferometric range change for each acquisition relative to the reference acquisition,\n",
    "- the \"date\" dataset which contains the acquisition date for each acquisition,\n",
    "- the \"bperp\" dataset which contains the timeseries of the perpendicular baseline.  \n",
    "</font>"
   ]
  },
  {
   "cell_type": "markdown",
   "metadata": {
    "hidden": true
   },
   "source": [
    "<font face=\"Calibri\" size=\"3\">The function call below allows you to <b>visualize the inverted InSAR <i>phase</i> time series</b>. The phase is referenced to the first image acquisition. Hence, early images tend to have less phase variability.    \n",
    "</font>"
   ]
  },
  {
   "cell_type": "code",
   "execution_count": null,
   "metadata": {},
   "outputs": [],
   "source": [
    "view.main('timeseries.h5 -v -5 5 --noaxis'.split())"
   ]
  },
  {
   "cell_type": "markdown",
   "metadata": {},
   "source": [
    "<div class=\"alert alert-danger\">\n",
    "<font face=\"Calibri\" size=\"5\"> <b> <font color='rgba(200,0,0,0.2)'> <u>ASSIGNMENT #1</u>:  </font> Information content of the phase time series:</b> <font color='rgba(200,0,0,0.2)'> -- [8 Points] </font> </font>\n",
    "You may see that there is a lot of variation in this time series, with phase \"colors\" changing from blue to red in some areas. In addition to surface displacement signals $\\phi_{disp}$, which other phase components may cause this variation in time. Name and briefly explain two likely causes for these phase variations.\n",
    "\n",
    "</div>"
   ]
  },
  {
   "cell_type": "markdown",
   "metadata": {},
   "source": [
    "<hr>\n",
    "<div class=\"alert alert-danger\">\n",
    "<i><font face=\"Calibri\" color='rgba(200,0,0,0.2)'> Question 1.1 [4 Points]:</font></i> \n",
    "\n",
    "NAME AND BRIEFLY DESCRIBE <b>FIRST</b> NUISANCE PHASE SIGNAL IN THE ABOVE TIME SERIES by adding text below:\n",
    "</div>"
   ]
  },
  {
   "cell_type": "markdown",
   "metadata": {},
   "source": [
    "<hr>\n",
    "<div class=\"alert alert-danger\">\n",
    "<i><font face=\"Calibri\" color='rgba(200,0,0,0.2)'> Question 1.2 [4 Points]:</font></i> \n",
    "\n",
    "NAME AND BRIEFLY DESCRIBE <b>SECOND</b> NUISANCE PHASE SIGNAL IN THE ABOVE TIME SERIES by adding text below:\n",
    "</div>"
   ]
  },
  {
   "cell_type": "markdown",
   "metadata": {
    "heading_collapsed": true,
    "hidden": true
   },
   "source": [
    "## 2.6 Estimating the Long-Term Velocity Rate"
   ]
  },
  {
   "cell_type": "markdown",
   "metadata": {
    "hidden": true
   },
   "source": [
    "<font face=\"Calibri\" size=\"3\">The ground deformation caused by many geophysical or anthropogenic processes are linear at first order approximation. Therefore it is common to estimate the rate of the ground deformation, which is the slope of linear fit to the time-series. </font>"
   ]
  },
  {
   "cell_type": "code",
   "execution_count": null,
   "metadata": {
    "hidden": true
   },
   "outputs": [],
   "source": [
    "!smallbaselineApp.py LASenDT71.txt --dostep velocity"
   ]
  },
  {
   "cell_type": "code",
   "execution_count": null,
   "metadata": {
    "hidden": true
   },
   "outputs": [],
   "source": [
    "scp_args = 'velocity.h5 velocity -v -1 1'\n",
    "view.main(scp_args.split())"
   ]
  },
  {
   "cell_type": "markdown",
   "metadata": {
    "hidden": true
   },
   "source": [
    "<div class=\"alert alert-success\">\n",
    "<b>Note :</b> \n",
    "Negative values indicate that targets are moving away from the radar (i.e., subsidence in case of vertical deformation).\n",
    "Positive values indicate that targets are moving towards the radar (i.e., uplift in case of vertical deformation). \n",
    "<br><br>    \n",
    "The line of sight (LOS) for this descending Sentinel-1 track is up and east from ground to radar.\n",
    "</div>"
   ]
  },
  {
   "cell_type": "markdown",
   "metadata": {
    "hidden": true
   },
   "source": [
    "<font face=\"Calibri\" size=\"3\"><b>Obvious features in the estimated velocity map:</b>\n",
    "\n",
    "1) There are several features with significant velocity in this area. <br><br>\n",
    "\n",
    "2) The negative LOS feature on the Palos Verdes peninsula (center left of map) is the Portuguese Bend Landslide, moving down and southwest toward the sea.\n",
    "\n",
    "3) There are areas of positive and negative LOS change in the area of Long Beach (east part of map). These are due to the extraction of oil and injection of water in oilfields beneath the city and out in the harbor.\n",
    "\n",
    "4) The block box at 33.76N, 118.36W is the reference pixel for this map, just north of the Portuguese Bend Landslide. \n",
    "</font>"
   ]
  },
  {
   "cell_type": "markdown",
   "metadata": {},
   "source": [
    "<hr>"
   ]
  },
  {
   "cell_type": "markdown",
   "metadata": {
    "heading_collapsed": true
   },
   "source": [
    "# 3. Error Analysis (Separating Signal from Noise)\n"
   ]
  },
  {
   "cell_type": "markdown",
   "metadata": {
    "hidden": true
   },
   "source": [
    "Uncertainty of the ground displacement products derived from InSAR time-series, depends on the quality of the inversion of the stack of interferograms and the accuracy in separating the ground displacement from other components of the InSAR data. Therefore the definition of signal vs noise is different at the two main steps in mintpy:  \n",
    "\n",
    "1) **During the inversion**: At this step all systematic components of the interferometric phase (e.g., ground displacement, propagation delay, geometrical residuals caused by DEM or platform's orbit inaccuracy) are considered signal, while the interferometric phase decorrelation, phase unwrapping error and phase inconsistency are considered noise. \n",
    "    \n",
    "2) **After inversion**: the ground displacement component of the time-series is signal, and everything else (including the propagation delay and geometrical residuals) are considered noise\n",
    "\n",
    "Therefore we first discuss the possible sources of error during the inversion and the existing ways in MintPy to evaluate the quality of inversion and to improve the uncertainty of the inversion. Afterwards we explain the different components of the time-series and the different processing steps in MintPy to separate them from ground displacement signal.  "
   ]
  },
  {
   "cell_type": "markdown",
   "metadata": {
    "heading_collapsed": true,
    "hidden": true
   },
   "source": [
    "## 3.1 Quality of the Inversion"
   ]
  },
  {
   "cell_type": "markdown",
   "metadata": {
    "hidden": true
   },
   "source": [
    "The main sources of noise during the time-series inversion includes decorrelation, phase unwrapping error and the inconsistency of triplets of interferograms. Here we mainly focus on the decorrelation and unwrapping errors. We first show the existing quantities in MintPy to evaluate decorrelation and unwrapping errors and then discuss the existing ways in MintPy to reduce the decorrelation and unwrapping errors on the time-series inversion."
   ]
  },
  {
   "cell_type": "markdown",
   "metadata": {
    "heading_collapsed": true,
    "hidden": true
   },
   "source": [
    "### 3.1.1 Average Spatial Coherence"
   ]
  },
  {
   "cell_type": "markdown",
   "metadata": {
    "hidden": true
   },
   "source": [
    "<font face=\"Calibri\" size=\"3\">Mintpy computes temporal average of spatial coherence of the entire stack as a potential ancillary measure to choose reliable pixels after time-series inversion. </font>"
   ]
  },
  {
   "cell_type": "code",
   "execution_count": null,
   "metadata": {
    "hidden": true
   },
   "outputs": [],
   "source": [
    "view.main('avgSpatialCoh.h5 --noverbose'.split())"
   ]
  },
  {
   "cell_type": "markdown",
   "metadata": {
    "heading_collapsed": true,
    "hidden": true
   },
   "source": [
    "### 3.1.2 Temporal Coherence"
   ]
  },
  {
   "cell_type": "markdown",
   "metadata": {
    "hidden": true
   },
   "source": [
    "In addition to timeseries.h5 which contains the time-series dataset, ```invert_network``` produces other quantities, which contain metrics to evaluate the quality of the inversion including temporalCoherence.h5. Temporal coherence represents the consistency of the timeseries with the network of interferograms. \n",
    "\n",
    "Temporal coherence varies from 0 to 1. Pixels with values closer to 1 are considered reliable and pixels with values closer to zero are considered unreliable. For a dense network of interferograms, a threshold of 0.7 may be used (Yunjun et al, 2019). Here we are using a threshold of 0.5.</font>"
   ]
  },
  {
   "cell_type": "code",
   "execution_count": null,
   "metadata": {
    "hidden": true,
    "tags": []
   },
   "outputs": [],
   "source": [
    "view.main('temporalCoherence.h5 --noverbose'.split())"
   ]
  },
  {
   "cell_type": "markdown",
   "metadata": {
    "hidden": true
   },
   "source": [
    "<font face=\"Calibri\" size=\"3\">With both the spatial coherence and temporal coherence, we can see that the InSAR in the ports of Long Beach and Los Angeles have unstable phase, and the InSAR measurements there will be low quality.</font>"
   ]
  },
  {
   "cell_type": "markdown",
   "metadata": {},
   "source": [
    "<div class=\"alert alert-danger\">\n",
    "<font size=\"5\"> <b> <font color='rgba(200,0,0,0.2)'> <u>ASSIGNMENT #2</u>:  </font> Temporal Coherence:</b> <font color='rgba(200,0,0,0.2)'> -- [4 Points] </font> </font>\n",
    "Temporal Coherence quantifies the consistency between the observed interferograms and the inverted phase time series. Areas where these are consistent show a coherence close to 1. Areas where the inverted time series doesn't match the observed InSAR phases well receive low coherence. Please name two reasons why temporal coherence may be low. \n",
    "\n",
    "</div>"
   ]
  },
  {
   "cell_type": "markdown",
   "metadata": {},
   "source": [
    "<hr>\n",
    "<div class=\"alert alert-danger\">\n",
    "<i><font color='rgba(200,0,0,0.2)'> Question 2.1 [2 Points]:</font></i> \n",
    "\n",
    "NAME YOUR <b>FIRST</b> POTENTIAL REASON FOR LOW TEMPORAL COHERENCE by adding text below:\n",
    "\n",
    "</div>"
   ]
  },
  {
   "cell_type": "markdown",
   "metadata": {},
   "source": [
    "<hr>\n",
    "<div class=\"alert alert-danger\">\n",
    "<i><font color='rgba(200,0,0,0.2)'> Question 2.1 [2 Points]:</font></i> \n",
    "\n",
    "NAME YOUR <b>SECOND</b> POTENTIAL REASON FOR LOW TEMPORAL COHERENCE by adding text below:\n",
    "</div>"
   ]
  },
  {
   "cell_type": "markdown",
   "metadata": {
    "heading_collapsed": true,
    "hidden": true
   },
   "source": [
    "## 3.2. Velocity Error Analysis"
   ]
  },
  {
   "cell_type": "markdown",
   "metadata": {
    "hidden": true
   },
   "source": [
    "<font face=\"Calibri\" size=\"3\">The estimated velocity also comes with an expression of unecrtainty which is simply based on the goodness of fit while fitting a linear model to the time-series. This quantity is saved in \"velocity.h5\" under the velocityStd dataset. \n",
    "\n",
    "**Mintpy supports additional corrections in its processing not included in this demo:**\n",
    "- Unwrapping error correction\n",
    "- Tropospheric delay correction\n",
    "- deramping\n",
    "- Topographic residual correction\n",
    "- Residual RMS for noise evaluation\n",
    "- Changing the reference date\n",
    "</font>"
   ]
  },
  {
   "cell_type": "code",
   "execution_count": null,
   "metadata": {
    "hidden": true
   },
   "outputs": [],
   "source": [
    "scp_args = 'velocity.h5 velocityStd -v 0 0.2 --noverbose'\n",
    "view.main(scp_args.split())"
   ]
  },
  {
   "cell_type": "markdown",
   "metadata": {
    "hidden": true
   },
   "source": [
    "<font face=\"Calibri\" size=\"3\">Note that the plot above is the velocity error, not the velocity. The errors generally increase with distance from the reference point and also increase for points with elevations different from the reference point because of topographically correlated water vapor variations that are especially strong in this area.</font>"
   ]
  },
  {
   "cell_type": "markdown",
   "metadata": {},
   "source": [
    "<div class=\"alert alert-danger\">\n",
    "<font size=\"5\"> <b> <font color='rgba(200,0,0,0.2)'> <u>ASSIGNMENT #3</u>:  </font> Displacement Velocity Error Discussion:</b> <font color='rgba(200,0,0,0.2)'> -- [4 Points] </font> </font>\n",
    "What are the main sources of error that results in the increase of velocity error with distance from the reference point? Name two likely sources of error below.\n",
    "\n",
    "</div>"
   ]
  },
  {
   "cell_type": "markdown",
   "metadata": {},
   "source": [
    "<hr>\n",
    "<div class=\"alert alert-danger\">\n",
    "<i><font color='rgba(200,0,0,0.2)'> Question 3.1 [2 Points]:</font></i> \n",
    "\n",
    "NAME AND BRIEFLY DESCRIBE <b>FIRST</b> SOURCE OR ERROR AFFECTING DISPLACEMENT VELOCITY ACCURACY by adding text below:\n",
    "</div>"
   ]
  },
  {
   "cell_type": "markdown",
   "metadata": {},
   "source": [
    "<hr>\n",
    "<div class=\"alert alert-danger\">\n",
    "<i><font color='rgba(200,0,0,0.2)'> Question 3.2 [2 Points]:</font></i> \n",
    "\n",
    "NAME AND BRIEFLY DESCRIBE <b>SECOND</b> SOURCE OR ERROR AFFECTING DISPLACEMENT VELOCITY ACCURACY by adding text below:\n",
    "</div>"
   ]
  },
  {
   "cell_type": "markdown",
   "metadata": {
    "heading_collapsed": true,
    "hidden": true
   },
   "source": [
    "## 3.3. Phase Unwrapping Error Detection"
   ]
  },
  {
   "cell_type": "markdown",
   "metadata": {},
   "source": [
    "The interferometric phases are wrapped (modulo 2$\\pi$) and integration of the wrapped phase, commonly called <b>phase unwrapping</b>, is required to obtain a field of relative phase with respect to a given pixel. The phase unwrapping algorithms add integer number of 2$\\pi$ phase jumps to recover the unwrapped phase. Interferometric phase noise and discontinuities among different coherent regions may lead to wrong 2$\\pi$ jumps added to the phase field known as unwrapping error. Unwrapping errors can bias the estimated time-series. </font>"
   ]
  },
  {
   "cell_type": "markdown",
   "metadata": {},
   "source": [
    "For an <b>interferogram triplet</b> ($\\Delta\\phi^{ij}$, $\\Delta\\phi^{jk}$ and $\\Delta\\phi^{ik}$), unwrapping errors will introduce an non-zero integer component $C_{int}^{ijk}$ in the closure phase $C^{ijk}$. Therefore, the number of interferogram triplets with non-zero integer ambiguity $T_{int}$ can be used to detect unwrapping errors:\n",
    "\n",
    "$$C^{ijk}=\\Delta\\phi^{ij}+\\Delta\\phi^{jk}-\\Delta\\phi^{ik}$$\n",
    "$$C_{int}^{ijk}=\\frac{C^{ijk}-wrap(C^{ijk})}{2\\pi}$$\n",
    "$$T_{int}=\\sum_{i=1}^T(C_{int}^{ijk}!=0)$$\n",
    "\n",
    "where $warp$ is an operator to wrap the input number into $[-\\pi, \\pi)$; $T$ is the number of interferogram triplets."
   ]
  },
  {
   "cell_type": "code",
   "execution_count": null,
   "metadata": {},
   "outputs": [],
   "source": [
    "!smallbaselineApp.py LASenDT71.txt --dostep quick_overview\n",
    "plot.plot_num_triplet_with_nonzero_integer_ambiguity('numTriNonzeroIntAmbiguity.h5', disp_fig=True, fig_size=[15, 5])"
   ]
  },
  {
   "cell_type": "markdown",
   "metadata": {},
   "source": [
    "<div class=\"alert alert-success\">\n",
    "<font face=\"Calibri\" size=\"3\"><b>Take home messages from $T_{int}$ map and histogram</b>:\n",
    "\n",
    "1. Areas with $T_{int}$ > 0 have unwrapping errors.\n",
    "2. Areas share common positive $T_{int}$ value could be corrected.\n",
    "3. Areas with widely-distributed $T_{int}$ value indicates random unwrapping errors, which are difficult to correct.</font>\n",
    "</div>"
   ]
  },
  {
   "cell_type": "markdown",
   "metadata": {
    "heading_collapsed": true,
    "hidden": true
   },
   "source": [
    "## 3.4. Phase Unwrapping Error Correction"
   ]
  },
  {
   "cell_type": "markdown",
   "metadata": {},
   "source": [
    "MintPy provides three methods to possibly detect and correct the phase unwrapping errors. The first method is based on the phase closure of the triplets of the interferograms. The second methods is automating the traditional manual bridging method in which coherent components with the smallest distance from each other are assumed connected and therefore the a smooth phase variation across them are enforced. The third approach is a hybrid approach and simply uses the both approached mentioned before.\n",
    "\n",
    "Note that to use the phase closure approach a dense network of interferograms should be available.\n",
    "\n",
    "Below, we add an item to the MintPy configuration file to perform phase unwrapping using the ```bridging``` method:\n",
    "</font>"
   ]
  },
  {
   "cell_type": "code",
   "execution_count": null,
   "metadata": {},
   "outputs": [],
   "source": [
    "config_file = os.path.join(mint_dir, \"LASenDT71.txt\")\n",
    "write_config_file(config_file, \"mintpy.unwrapError.method = bridging\")"
   ]
  },
  {
   "cell_type": "markdown",
   "metadata": {},
   "source": [
    "Now we can <b>perform phase unwrapping correction</b>:"
   ]
  },
  {
   "cell_type": "code",
   "execution_count": null,
   "metadata": {
    "tags": []
   },
   "outputs": [],
   "source": [
    "!smallbaselineApp.py LASenDT71.txt --dostep correct_unwrap_error"
   ]
  },
  {
   "cell_type": "markdown",
   "metadata": {},
   "source": [
    "After correcting for unwrapping errors, we need to <b>re-run the inversion</b> to see the impact of the unwrapping error correction."
   ]
  },
  {
   "cell_type": "code",
   "execution_count": null,
   "metadata": {
    "tags": []
   },
   "outputs": [],
   "source": [
    "!smallbaselineApp.py LASenDT71.txt --dostep invert_network"
   ]
  },
  {
   "cell_type": "markdown",
   "metadata": {},
   "source": [
    "Now we can <b>re-plot the temporal coherence</b> to identify potential improvements through phase unwrapping correction (in this case, improvements are pretty small):\n",
    "</font>"
   ]
  },
  {
   "cell_type": "code",
   "execution_count": null,
   "metadata": {},
   "outputs": [],
   "source": [
    "view.main('temporalCoherence.h5 --noverbose'.split())"
   ]
  },
  {
   "cell_type": "markdown",
   "metadata": {
    "heading_collapsed": true,
    "hidden": true
   },
   "source": [
    "## 3.5. Residual DEM Error Correction "
   ]
  },
  {
   "cell_type": "markdown",
   "metadata": {},
   "source": [
    "This step corrects the phase residual caused by the inaccuracy of the DEM used in InSAR processing (DEM error). To correct for DEM errors, we use its relationship with the perpendicular baseline time-series (Fattahi and Amelung, 2013, IEEE-TGRS)."
   ]
  },
  {
   "cell_type": "code",
   "execution_count": null,
   "metadata": {
    "tags": []
   },
   "outputs": [],
   "source": [
    "write_config_file(config_file, \"mintpy.topographicResidual = yes\")\n",
    "!smallbaselineApp.py LASenDT71.txt --dostep correct_topography"
   ]
  },
  {
   "cell_type": "markdown",
   "metadata": {},
   "source": [
    "Now <b>let's view the calculated DEM error</b>:\n",
    "</font>"
   ]
  },
  {
   "cell_type": "code",
   "execution_count": null,
   "metadata": {},
   "outputs": [],
   "source": [
    "view.main('demErr.h5 --zero-mask -v -25 25 --noverbose'.split())"
   ]
  },
  {
   "cell_type": "markdown",
   "metadata": {
    "heading_collapsed": true,
    "hidden": true
   },
   "source": [
    "## 3.5. Re-Estimating Velocity After Error Correction"
   ]
  },
  {
   "cell_type": "markdown",
   "metadata": {},
   "source": [
    "Now we can <b>re-plot the deformation velocity as well as the temporal coherence</b> to identify potential improvements through phase unwrapping correction (in this case, improvements are pretty small):"
   ]
  },
  {
   "cell_type": "code",
   "execution_count": null,
   "metadata": {},
   "outputs": [],
   "source": [
    "!smallbaselineApp.py LASenDT71.txt --dostep velocity\n",
    "view.main('velocity.h5 velocity -v -2 2 --noverbose'.split())"
   ]
  },
  {
   "cell_type": "markdown",
   "metadata": {},
   "source": [
    "<hr>"
   ]
  },
  {
   "cell_type": "markdown",
   "metadata": {
    "heading_collapsed": true
   },
   "source": [
    "# 4. Plotting a Landslide Motion Transect "
   ]
  },
  {
   "cell_type": "code",
   "execution_count": null,
   "metadata": {
    "hidden": true
   },
   "outputs": [],
   "source": [
    "scp_args = 'velocity.h5 --start-lalo 33.75 -118.38 --end-lalo 33.72 -118.3 '\n",
    "plot_transection.main(scp_args.split())\n",
    "\n",
    "!smallbaselineApp.py smallbaselineApp.cfg --dostep google_earth"
   ]
  },
  {
   "cell_type": "markdown",
   "metadata": {
    "hidden": true
   },
   "source": [
    "On this transect, the Portuguese Bend Landslide has an average velocity over the last five years that reaches more than 2.5 cm/year in the descending track radar LOS direction (note that the \"zero\" is about -5 so we have to subtract that first). By analyzing the velocity on the ascending track and combining the two LOS directions, then we could find out that the displacements are largely horizontal, westward (and southward that we can't see with InSAR).</font>"
   ]
  },
  {
   "cell_type": "markdown",
   "metadata": {},
   "source": [
    "<hr>"
   ]
  },
  {
   "cell_type": "markdown",
   "metadata": {
    "heading_collapsed": true
   },
   "source": [
    "# 5. Validation - Comparing InSAR and GPS Velocities "
   ]
  },
  {
   "cell_type": "markdown",
   "metadata": {
    "hidden": true
   },
   "source": [
    "MintPy's analysis is independent of GPS observations. This allows validating InSAR products with GPS data when they are available. For this purpose, we will download GPS data over the region of interest from Nevada Geodetic Laboratory at University of Nevada, Reno.\n",
    "\n",
    "First. we write the University of Nevada, Reno GPS station holdings metadata to file ```GPS_stations.csv```."
   ]
  },
  {
   "cell_type": "code",
   "execution_count": null,
   "metadata": {},
   "outputs": [],
   "source": [
    "import requests\n",
    "mint_path= f'{work_dir}/MintPy'\n",
    "with asfn.work_dir(mint_path):\n",
    "    headers = {\n",
    "    \"User-Agent\": \"Mozilla/5.0 (Macintosh; Intel Mac OS X 10_15_7) AppleWebKit/537.36 (KHTML, like Gecko) Chrome/134.0.0.0 Safari/537.36\",\n",
    "    \"Accept\": \"text/html,application/xhtml+xml,application/xml;q=0.9,image/avif,image/webp,*/*;q=0.8\",\n",
    "    \"Accept-Language\": \"en-US,en;q=0.9\",\n",
    "    }\n",
    "\n",
    "    response = requests.get(\"https://geodesy.unr.edu/NGLStationPages/DataHoldings.txt\", headers=headers, timeout=15)\n",
    "    \n",
    "    content = response.content\n",
    "    rows = content.decode('utf-8').splitlines()\n",
    "    holdings_txt = Path('.')/'DataHoldings.txt'\n",
    "    if holdings_txt.exists():\n",
    "        holdings_txt.unlink()\n",
    "\n",
    "with open(f'{mint_path}/GPS_stations.csv', 'w', newline='') as csvfile:\n",
    "    csv_writer = csv.writer(csvfile, delimiter=',', escapechar=',', quoting=csv.QUOTE_NONE)\n",
    "    for row in rows:\n",
    "        csv_writer.writerow([re.sub('\\s+', ' ', row)])"
   ]
  },
  {
   "cell_type": "markdown",
   "metadata": {},
   "source": [
    "Now we can <b>build a list of GPS stations</b> within your area of interest and <b>select a station we want to use as reference</b>. We will set both InSAR and GPS velocities to zero at this location to be able to compare the two data sets directly."
   ]
  },
  {
   "cell_type": "code",
   "execution_count": null,
   "metadata": {},
   "outputs": [],
   "source": [
    "# get the InSAR stack's corner coordinates\n",
    "with h5py.File(f\"{mint_path}/inputs/geometryGeo.h5\", 'r') as f:\n",
    "    lon_west = float(f.attrs['LON_REF1'])\n",
    "    lon_east = float(f.attrs['LON_REF2'])\n",
    "    lat_south = float(f.attrs['LAT_REF1'])\n",
    "    lat_north = float(f.attrs['LAT_REF3'])\n",
    "\n",
    "# get the start and end dates of the timeseries\n",
    "info = gdal.Info(f\"{mint_path}/timeseries.h5\", format='json')\n",
    "ts_start = info['metadata']['']['START_DATE']\n",
    "ts_start = datetime.strptime(ts_start, '%Y%m%d')\n",
    "ts_end = info['metadata']['']['END_DATE']\n",
    "ts_end = datetime.strptime(ts_end, '%Y%m%d')\n",
    "\n",
    "# find all stations that have data within the ts time range,\n",
    "# are located within the AOI and at an unmasked pixel location\n",
    "gps_stations = list()\n",
    "with open(f'{mint_path}/GPS_stations.csv', newline='') as csvfile:\n",
    "    csv_reader = csv.reader(csvfile, delimiter=' ', quotechar='|')\n",
    "    for row in list(csv_reader)[1:]:\n",
    "        begin_date = datetime.strptime(row[7], '%Y-%m-%d')\n",
    "        mod_date = datetime.strptime(row[9], '%Y-%m-%d')\n",
    "        lat = float(row[1])\n",
    "        \n",
    "        # print('begin_date: ', begin_date)\n",
    "        # print('mod_date: ', mod_date)\n",
    "        # print('lat: ', lat, '\\n')\n",
    "        \n",
    "        if float(row[2]) > 180:\n",
    "            lon = float(row[2]) - 360\n",
    "        else:\n",
    "            lon = float(row[2])\n",
    "\n",
    "        n = [lat, lon]\n",
    "        a = [lat_north, lon_west]\n",
    "        b = [lat_south, lon_west]\n",
    "        c = [lat_south, lon_east]\n",
    "        ab = np.subtract(a, b)\n",
    "        an = np.subtract(a, n)\n",
    "        bc = np.subtract(b, c)\n",
    "        bn = np.subtract(b, n)\n",
    "\n",
    "        in_aoi = 0 <= np.dot(ab, an) <= np.dot(ab, ab) and 0 <= np.dot(bc, bn) <= np.dot(bc, bc)\n",
    "        in_date_range = ts_start >= begin_date and ts_end <= mod_date\n",
    "        \n",
    "        if in_aoi and in_date_range:\n",
    "            vel_file = f'{mint_path}/velocity.h5'\n",
    "            atr = mintpy.utils.readfile.read_attribute(vel_file)\n",
    "            coord = mintpy.utils.utils.coordinate(atr, lookup_file=f'{mint_path}/inputs/geometryRadar.h5')\n",
    "            y, x = coord.geo2radar(lat, lon)[:2]\n",
    "            msk = mintpy.utils.readfile.read(f'{mint_path}/maskTempCoh.h5')[0]\n",
    "            box = (x, y, x+1, y+1)\n",
    "            masked = not msk[y, x]\n",
    "            if not masked:\n",
    "                gps_stations.append(row[0].strip())\n",
    "                \n",
    "if len(gps_stations) > 0:\n",
    "    gps_station = asfn.select_parameter(gps_stations)\n",
    "    print(\"Select a GPS station\")\n",
    "    display(gps_station)\n",
    "else:\n",
    "    print(\"No GPS stations found.\")"
   ]
  },
  {
   "cell_type": "markdown",
   "metadata": {},
   "source": [
    "Now we <b>visualize GPS stations as colored dots</b> on top of the InSAR map. Ideally, the GPS \"color\" matches the InSAR \"color\" in the background."
   ]
  },
  {
   "cell_type": "code",
   "execution_count": null,
   "metadata": {},
   "outputs": [],
   "source": [
    "scp_args = f\"{mint_dir}/velocity.h5 velocity --show-gps --ref-gps {gps_station.value} --gps-comp enu2los --gps-label --figsize 12 12 --noverbose\"\n",
    "with asfn.work_dir(mint_dir):\n",
    "    view.main(scp_args.split())"
   ]
  },
  {
   "cell_type": "markdown",
   "metadata": {},
   "source": [
    "<hr>"
   ]
  },
  {
   "cell_type": "markdown",
   "metadata": {
    "heading_collapsed": true
   },
   "source": [
    "# 6. Visualizing Displacement Time Series for Selected Points"
   ]
  },
  {
   "cell_type": "markdown",
   "metadata": {},
   "source": [
    "Now we can <b>visualize displacement time series information</b> For selected points. In the code cell below, we are plotting the time series for pixel location ```x=104''' and ```y=186'''. The selected point is shown as a red triangle in the first figure below. Feel free to change the pixel location and visualize time series in different locations!"
   ]
  },
  {
   "cell_type": "code",
   "execution_count": null,
   "metadata": {},
   "outputs": [],
   "source": [
    "%matplotlib widget\n",
    "scp_args = f\"{mint_dir}/timeseries_demErr.h5 --yx 186 104 -d=inputs/geometryGeo.h5 --figsize 14 12 --noverbose \"\n",
    "with asfn.work_dir(mint_dir):\n",
    "    tsview.main(scp_args.split())"
   ]
  },
  {
   "cell_type": "markdown",
   "metadata": {},
   "source": [
    "<div class=\"alert alert-danger\">\n",
    "<font size=\"5\"> <b> <font color='rgba(200,0,0,0.2)'> <u>ASSIGNMENT #4</u>:  </font> Evaluate the Displacement Time Series:</b> <font color='rgba(200,0,0,0.2)'> -- [4 Points] </font> </font>\n",
    "Click into some of the areas that have about zero average displacement. Evaluate the displacement time series you see. <b>Answer the following two questions</b>:\n",
    "\n",
    "</div>"
   ]
  },
  {
   "cell_type": "markdown",
   "metadata": {},
   "source": [
    "<hr>\n",
    "<div class=\"alert alert-danger\">\n",
    "<i><font color='rgba(200,0,0,0.2)'> Question 4.1 [2 Points]:</font></i> \n",
    "\n",
    "HOW DOES THE NOISE AROUND THE LINEAR REGRESSION LINE CHANGE WHEN WE PROGRESSIVELY MOVE AWAY FROM THE REFERENCE POINT? WHAT MAY THIS TELL YOU ABOUT THE POTENTIAL CAUSE OF THIS NOISE?\n",
    "</div>"
   ]
  },
  {
   "cell_type": "markdown",
   "metadata": {},
   "source": [
    "<hr>\n",
    "<div class=\"alert alert-danger\">\n",
    "<i><font color='rgba(200,0,0,0.2)'> Question 4.2 [2 Points]:</font></i> \n",
    "\n",
    "HUNT FOR POTENTIAL REAL SIGNALS IN THE \"GREEN TO YELLOW\" AREAS? TAKE A SCREENSHOT, UPLOAD IT, AND PASTE IT BELOW. DISCUSS THE SIGNAL YOU SEE.\n",
    "</div>"
   ]
  },
  {
   "cell_type": "markdown",
   "metadata": {},
   "source": [
    "<hr>"
   ]
  },
  {
   "cell_type": "markdown",
   "metadata": {
    "heading_collapsed": true
   },
   "source": [
    "# 7. Reference Material"
   ]
  },
  {
   "cell_type": "markdown",
   "metadata": {
    "hidden": true
   },
   "source": [
    "\n",
    "- Original Notebook withe detailed description by Yunjun and Fattahi at: https://nbviewer.jupyter.org/github/insarlab/MintPy-tutorial/blob/master/smallbaselineApp_aria.ipynb\n",
    "\n",
    "- Mintpy reference: *Yunjun, Z., H. Fattahi, F. Amelung (2019), Small baseline InSAR time series analysis: unwrapping error correction and noise reduction, preprint doi:[10.31223/osf.io/9sz6m](https://eartharxiv.org/9sz6m/).*\n",
    "\n",
    "- University of Miami online time-series viewer: https://insarmaps.miami.edu/\n",
    "\n",
    "- Mintpy Github repository: https://github.com/insarlab/MintPy\n",
    "\n",
    "- ARIA-tools Github Repository: https://github.com/aria-tools/ARIA-tools\n",
    "</font>"
   ]
  },
  {
   "cell_type": "markdown",
   "metadata": {},
   "source": [
    "<hr>"
   ]
  },
  {
   "cell_type": "markdown",
   "metadata": {
    "heading_collapsed": true
   },
   "source": [
    "# 8. Change Log"
   ]
  },
  {
   "cell_type": "markdown",
   "metadata": {
    "hidden": true
   },
   "source": [
    "<i>LosAngeles_time_series.ipynb - Version 1.2.3 - April 2024\n",
    "<br>\n",
    "    <b>Version Changes</b>\n",
    "    <ul>\n",
    "        <li>url_widget</li>\n",
    "        <li>added more visualization functionality. Also added DEM error correction and Phase Unwrapping Error Correction.</li>\n",
    "    </ul></i>\n",
    "</font>"
   ]
  }
 ],
 "metadata": {
  "kernelspec": {
   "display_name": "Python [conda env:.local-opensarlab_mintpy_recipe_book]",
   "language": "python",
   "name": "conda-env-.local-opensarlab_mintpy_recipe_book-py"
  },
  "language_info": {
   "codemirror_mode": {
    "name": "ipython",
    "version": 3
   },
   "file_extension": ".py",
   "mimetype": "text/x-python",
   "name": "python",
   "nbconvert_exporter": "python",
   "pygments_lexer": "ipython3",
   "version": "3.9.0"
  }
 },
 "nbformat": 4,
 "nbformat_minor": 4
}
