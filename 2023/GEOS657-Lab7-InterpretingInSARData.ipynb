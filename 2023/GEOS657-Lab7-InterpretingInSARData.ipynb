{
 "cells": [
  {
   "cell_type": "markdown",
   "metadata": {},
   "source": [
    "<img src=\"NotebookAddons/blackboard-banner.png\" width=\"100%\" />\n",
    "<font face=\"Calibri\">\n",
    "<br>\n",
    "<font size=\"7\"> <b> GEOS 657: Microwave Remote Sensing <b> </font>\n",
    "\n",
    "<font size=\"5\"> <b>Lab 7: Interpreting InSAR Data <font color='rgba(200,0,0,0.2)'> -- [16 Points] </font></b> </font>\n",
    "\n",
    "<br>\n",
    "<font size=\"4\"> <b> <a href=\"https://profiles.ucr.edu/app/home/profile/gareth\" target=\"_blank\">Gareth Funning</a>, University of California Riverside & Franz J Meyer, University of Alaska Fairbanks </b> <br>\n",
    "<font color='rgba(200,0,0,0.2)'> <b>Due Date: </b> April 13, 2021 </font>\n",
    "</font>\n",
    "\n",
    "<img style=\"padding: 7px\" src=\"NotebookAddons/UAFLogo_A_647.png\" width=\"170\" align=\"right\" /> <font size=\"3\"> This little exercise lets you interpret and (manually) unwrap an interferogram related to a 1995 earthquake in Turkey. The goal of the lab is to get you used to the iterpretation of InSAR data and to help you understand the relationship between interferograms and observed surface deformation. \n",
    "<br><br>\n",
    "\n",
    "<b>This Lab is part of the UAF course <a href=\"https://radar.community.uaf.edu/\" target=\"_blank\">GEOS 657: Microwave Remote Sensing</a>. It will introduce the following data analysis concepts:</b>\n",
    "\n",
    "- How to relate InSAR phase to surface displacement\n",
    "- How to interpet fringe patterns related to an earthquake event \n",
    "- How to relate fringe rate to gradients in a displacement field\n",
    "</font>"
   ]
  },
  {
   "cell_type": "markdown",
   "metadata": {},
   "source": [
    "<div class=\"alert alert-danger\">\n",
    "<font face=\"Calibri\" size=\"4\"> <font color='rgba(200,0,0,0.2)'> <b>THIS NOTEBOOK INCLUDES TWO HOMEWORK ASSIGNMENTS.</b></font> \n",
    "<br> \n",
    "<font size=\"3\"> Complete all assignments to achieve full score. </font> <br>\n",
    "\n",
    "<font size=\"3\"> To submit your homework, please download your completed Jupyter Notebook from the server both asf PDF (*.pdf) and Notebook file (*.ipynb) and submit them as a ZIP bundle via the GEOS 657 Blackboard page. To download, please select the following options in the main menu of the notebook interface:\n",
    "\n",
    "<ol type=\"1\">\n",
    "  <li><font color='rgba(200,0,0,0.2)'> <b> Save your notebook with all of its content</b></font> by selecting <i> File / Save and Checkpoint </i> </li>\n",
    "  <li><font color='rgba(200,0,0,0.2)'> <b>To export in Notebook format</b></font>, click the <i>radio button next to the notebook file in the main Jupyter Hub browser tab. Once clicked, a download field will appear near the top of the page.</i></li>\n",
    "  <li><font color='rgba(200,0,0,0.2)'> <b>To export in PDF format</b></font>, right-click on your browser window and print the browser content to PDF</li>\n",
    "</ol>\n",
    "\n",
    "Contact me at fjmeyer@alaska.edu should you run into any problems.\n",
    "</font>\n",
    "</font>\n",
    "</div>"
   ]
  },
  {
   "cell_type": "markdown",
   "metadata": {},
   "source": [
    "<div class=\"alert alert-warning\">\n",
    "<font face=\"Calibri\" size=\"5\" color=\"darkred\"> <b>Important Note about JupyterHub</b> </font>\n",
    "<br><br>\n",
    "<font face=\"Calibri\" size=\"3\"> Your JupyterHub server will automatically shutdown when left idle for more than 1 hour. Your notebooks will not be lost but you will have to restart their kernels and re-run them from the beginning. You will not be able to seamlessly continue running a partially run notebook. </font>\n",
    "</div>"
   ]
  },
  {
   "cell_type": "markdown",
   "metadata": {
    "heading_collapsed": true
   },
   "source": [
    "# Background"
   ]
  },
  {
   "cell_type": "markdown",
   "metadata": {
    "hidden": true
   },
   "source": [
    "<font face=\"Calibri\" size=\"3\">On 1 October 1995, a M<sub>w</sub> 6.4 earthquake caused extensive damage to the town of Dinar in western Turkey, a region of active tectonic extension, killing 92 people. The earthquake created a 10 km continuous surface rupture running along the mapped Dinar-Civril fault with a maximum vertical offset of 25–30 cm, tailing off to around 15 cm to the SE. A Synthetic Aperture Radar interferogram has been generated from ERS-1/2 images that spanned the event, separated in time by 5 months. \n",
    "\n",
    "You are provided with files containing the following:\n",
    "<ul>\n",
    "    <li>The Dinar earthquake interferogram (<a href=\"https://radar.community.uaf.edu/wp-content/uploads/sites/667/2021/03/interferogram_color.pdf\" target=new>interferogram_color.pdf</a> or <a href=\"https://radar.community.uaf.edu/wp-content/uploads/sites/667/2021/03/interferogram_color.png\" target=new>interferogram_color.png</a>, see also Figure 1 below)</li>\n",
    "    <li>A grid, for plotting a line-of-sight displacement profile across the center of the deformation pattern, and a topographic profile drawn along the same profile line (provided as google doc files later in the notebook)</li>\n",
    "</ul>\n",
    "\n",
    "I will break you up into groups. Each group will receive a google doc file to work with and draw surface displacement profiles across the profile shown in Figure 1. </font>"
   ]
  },
  {
   "cell_type": "markdown",
   "metadata": {
    "hidden": true
   },
   "source": [
    "<hr>"
   ]
  },
  {
   "cell_type": "markdown",
   "metadata": {
    "heading_collapsed": true
   },
   "source": [
    "# The Interferogram and What it Tells us About the Earthquake"
   ]
  },
  {
   "cell_type": "markdown",
   "metadata": {
    "hidden": true
   },
   "source": [
    "<font face=\"Calibri\" size=\"3\">The interferogram (Figure 1) represents a map of the displacement of the ground surface during the earthquake. The pattern of interference fringes can be interpreted as a series of contours of equal surface displacement. When interpreting such a pattern it is important to know the sign convention used in plotting the interferogram. In this case, <b>each successive cycle of colors from blue to yellow to red indicates an increase in the distance between the ground and the satellite</b> (positive 'range change') <b>of 2.8 cm</b>. If we assume that the 'far field' of the interferogram (i.e. the areas far away from the fault) was not displaced in the earthquake, then we can estimate the amount of displacement in the earthquake by starting in the far field and counting the fringes inwards.\n",
    "\n",
    "Such data can be used to give additional information about the earthquake that could not be determined by seismology or field investigation alone, such as the amounts and relative proportions of uplift and subsidence caused by the event over an area tens of kilometers wide! \n",
    "<br><br>\n",
    "<img src=\"https://radar.community.uaf.edu/wp-content/uploads/sites/667/2021/03/interferogram_color.png\" align=center>\n",
    "<br>\n",
    "<b>Figure 1:</b> ERS-1/2 interferogram of the 1995 Dinar, Turkey earthquake. Each cycle of colors from blue to yellow to red indicates an increase in distance between the satellite and ground (positive range change) of 2.8 cm. Black line indicates the location of the earthquake surface rupture. Thick white dashed line represents zero displacement from the earthquake, thin white dotted lines indicate the locations of the first half-fringe of deformation (labels indicate the sense of range change, either positive or negative).\n"
   ]
  },
  {
   "cell_type": "markdown",
   "metadata": {
    "hidden": true
   },
   "source": [
    "<hr>"
   ]
  },
  {
   "cell_type": "markdown",
   "metadata": {
    "heading_collapsed": true
   },
   "source": [
    "# The Dinar-Civril Fault: Uplift and Subsidence --- <font color='rgba(200,0,0,0.2)'> [Assignment Inside]</font>"
   ]
  },
  {
   "cell_type": "markdown",
   "metadata": {
    "hidden": true
   },
   "source": [
    "<font face=\"Calibri\" size=\"3\">The Dinar-Civril fault is a normal fault, a type of dip-slip fault in which the main mode of motion is extensional. Normal faults are typically planar structures that are inclined ('dip') at angles between 30° and 70°. The block of crustal rock above the fault (known as the hangingwall block, or simply the hangingwall) slides downwards and away from the fault, whereas the block beneath the fault (known as the footwall black or just the footwall), slides upwards and away from the fault.\n",
    "\n",
    "[The terms footwall and hangingwall originate from mining – when mining along a fault, the footwall was the block you were standing on, and the hangingwall the block that you hung your lantern from.]\n",
    "</font>"
   ]
  },
  {
   "cell_type": "markdown",
   "metadata": {
    "hidden": true
   },
   "source": [
    "<div class=\"alert alert-danger\">\n",
    "<font face=\"Calibri\" size=\"5\"> <b> <font color='rgba(200,0,0,0.2)'> <u>ASSIGNMENT #1</u>:  </font> Estimate Uplift and Subsidence for this Event </b> <font color='rgba(200,0,0,0.2)'> -- [6 Points] </font> </font>\n",
    "\n",
    "<font face=\"Calibri\" size=\"3\"> Examine the interferogram in your Google Doc file. Count the fringes on either side of the fault, and estimate the maximum vertical displacements. Then use the sign convention of the color scheme to interpret these displacements as uplift and/or subsidence. [Note that because the earthquake was a dip-slip event, most of the surface deformation was vertical and hence you can think of the fringes as contours of vertical displacement.] \n",
    "<br><br>\n",
    "<b>Edit the cell below and type in your answers to the following questions</b>:\n",
    "</font>\n",
    "</div>"
   ]
  },
  {
   "cell_type": "markdown",
   "metadata": {
    "hidden": true
   },
   "source": [
    "<div class=\"alert alert-danger\">\n",
    "<font face=\"Calibri\" size=\"3\"> <i> <font color='rgba(200,0,0,0.2)'> Question 1.1 [3 Points]:</font> The hangingwall is on the SW site of the fault in this case. How many hangingwall fringes are there? How much was the hangingwall displaced, and in which direction (up or down), during the earthquake? </i> \n",
    "    \n",
    "ADD ANSWER HERE:\n",
    "\n",
    "<ul>\n",
    "    <li>Hangingwall fringes:  ______</li><br>\n",
    "    <li>Hangingwall displacement:  ______</li><br>\n",
    "    <li>Direction of displacement: ______</li>\n",
    "</ul>\n",
    "</font>\n",
    "</div>"
   ]
  },
  {
   "cell_type": "markdown",
   "metadata": {
    "hidden": true
   },
   "source": [
    "<div class=\"alert alert-danger\">\n",
    "<font face=\"Calibri\" size=\"3\"> <i> <font color='rgba(200,0,0,0.2)'> Question 1.1 [3 Points]:</font> The footwall is on the NE side in this case. How many fringes are there on the footwall and how much was it displaced (and in which direction)? </i> \n",
    "    \n",
    "ADD ANSWER HERE:\n",
    "\n",
    "<ul>\n",
    "    <li>Footwall fringes:  ______</li><br>\n",
    "    <li>Footwall displacement:  ______</li><br>\n",
    "    <li>Direction of displacement: ______</li>\n",
    "</ul>\n",
    "</font>\n",
    "</div>"
   ]
  },
  {
   "cell_type": "markdown",
   "metadata": {
    "hidden": true
   },
   "source": [
    "<hr>"
   ]
  },
  {
   "cell_type": "markdown",
   "metadata": {
    "heading_collapsed": true
   },
   "source": [
    "# Unwrapping the Interferogram Along a Profile --- <font color='rgba(200,0,0,0.2)'> [Assignment Inside]</font>"
   ]
  },
  {
   "cell_type": "markdown",
   "metadata": {
    "hidden": true,
    "hideCode": true
   },
   "source": [
    "<font face=\"Calibri\" size=\"3\">To assist with interpreting the deformation in an interferogram, it is common to 'unwrap' it &ndash; i.e. convert the interferometric fringes from periodic signals into continuous displacements. If a 'wrapped' interferogram is similar to a contour map with unlabelled contours (albeit contours where you have some sense of the slope direction, up or down), unwrapping is like assigning heights to the contours.</font>"
   ]
  },
  {
   "cell_type": "markdown",
   "metadata": {
    "hidden": true
   },
   "source": [
    "<div class=\"alert alert-danger\">\n",
    "<font face=\"Calibri\" size=\"5\"> <b> <font color='rgba(200,0,0,0.2)'> <u>ASSIGNMENT #2</u>:  </font> Unwrap the Interferogram Along a Profile </b> <font color='rgba(200,0,0,0.2)'> -- [10 Points] </font> </font>\n",
    "\n",
    "<font face=\"Calibri\" size=\"3\"> Using the grid provided in the Google Doc files, and starting in the far field, draw a vertical deformation profile for the Dinar earthquake along the section line X–X’, converting the repeated fringe intervals into cumulative displacements. Do not continue the profile through areas that are incoherent (i.e. noisy), such as the area SW of the Dinar-Civril fault. \n",
    "<br><br>\n",
    "<b>In order to draw this profile, do the following</b> <font color='rgba(200,0,0,0.2)'> -- [4 Points] </font>:\n",
    "\n",
    "<ol type=\"a\">\n",
    "    <li><b>Open</b> the following <a href=\"https://docs.google.com/drawings/d/1OUSS5EaqbGYSTF_zHebHGzi1MNzXW_tvdnAjvTgy8cw/edit?usp=sharing\" target=new>Google Draw document</a> and make a copy.</li>\n",
    "    <li><b>Rename your copy</b> using the following pattern: <b><i>Lab7-GroupX-Lastname1-Lastname2-Lastname3 ...'''.</i></b></li>\n",
    "    <li><b>Edit the document</b> by copying the pink circles and placing them into the right positions to trace the displacement across the profile.</li>\n",
    "    <li><b>Export your google doc as a PDF</b> and attach it to your homework assignment.</li>\n",
    "</ol>\n",
    "\n",
    "</font>\n",
    "</div>"
   ]
  },
  {
   "cell_type": "markdown",
   "metadata": {
    "hidden": true,
    "hideCode": true
   },
   "source": [
    "<font face=\"Calibri\" size=\"3\">\n",
    "Hints:\t\n",
    "  \n",
    "(i) At 2.8 cm per fringe, 2½ fringes = 0.07 m, and 5 fringes = 0.14 m. \n",
    "\n",
    "(ii) Where the fringe gradient is at its largest, counting every fifth fringe is reasonable.\n",
    "\n",
    "(iii) Rather than try to track displacement across the fault, consider displacements on the hangingwall and footwall separately, starting each time with zero displacement at either end of the profile. Yes, you can assume that the ends of the profile didn’t move!\n",
    "\n",
    "<b>Once you are done with your profile, some questions to consider: (edit the cell to include your answers below)</b>\n",
    "</font>"
   ]
  },
  {
   "cell_type": "markdown",
   "metadata": {
    "hidden": true
   },
   "source": [
    "<div class=\"alert alert-danger\">\n",
    "<font face=\"Calibri\" size=\"3\"> <i> <font color='rgba(200,0,0,0.2)'> Question 2.1 [2 Points]:</font> What was the total throw in the earthquake (i.e. uplift + subsidence)? </i> \n",
    "    \n",
    "ADD ANSWER HERE:\n",
    "\n",
    "__ \n",
    "__ \n",
    "__\n",
    "</font>\n",
    "</div>"
   ]
  },
  {
   "cell_type": "markdown",
   "metadata": {
    "hidden": true
   },
   "source": [
    "<div class=\"alert alert-danger\">\n",
    "<font face=\"Calibri\" size=\"3\"> <i> <font color='rgba(200,0,0,0.2)'> Question 2.2 [2 Points]:</font> What was the ratio of uplift to subsidence in the earthquake? </i> \n",
    "    \n",
    "ADD ANSWER HERE:\n",
    "\n",
    "__ \n",
    "__ \n",
    "__\n",
    "</font>\n",
    "</div>"
   ]
  },
  {
   "cell_type": "markdown",
   "metadata": {
    "hidden": true
   },
   "source": [
    "<div class=\"alert alert-danger\">\n",
    "<font face=\"Calibri\" size=\"3\"> <i> <font color='rgba(200,0,0,0.2)'> Question 2.3 [2 Points]:</font> Elastic modeling of the interferogram and information from seismology suggests that the fault dips at 40 degrees. Considering the throw observed in the earthquake, how much slip on the fault would be required to produce it? </i> \n",
    "    \n",
    "ADD ANSWER HERE:\n",
    "\n",
    "__ \n",
    "__ \n",
    "__\n",
    "</font>\n",
    "</div>"
   ]
  },
  {
   "cell_type": "markdown",
   "metadata": {
    "heading_collapsed": true
   },
   "source": [
    "# Readings and Acknowledgements"
   ]
  },
  {
   "cell_type": "markdown",
   "metadata": {
    "hidden": true
   },
   "source": [
    "<font face=\"Calibri\" size=\"3\">This exercise was adapted by Gareth Funning (gareth@ucr.edu) from an exercise originally developed by Tim Wright of the University of Leeds. A longer, and more geological, form of the exercise is found in Unit 3 of the GETSI module, 'Imaging Active Tectonics', available at https://serc.carleton.edu/getsi/\n",
    "\n",
    "For further information on the Dinar earthquake, the interferogram and its interpretation, you can read:\n",
    "\n",
    "Wright, T. J., Parsons, B. E., Jackson, J. A., Haynes, M., Fielding, E. J., England, P. C. and Clarke, P. J. (1999), Source parameters of the 1 October 1995 Dinar (Turkey) earthquake from SAR interferometry and seismic bodywave modelling, Earth Planet. Sci. Lett., 172, 23-37. \n",
    "</font>"
   ]
  }
 ],
 "metadata": {
  "kernelspec": {
   "display_name": "Python 3",
   "language": "python",
   "name": "python3"
  },
  "language_info": {
   "codemirror_mode": {
    "name": "ipython",
    "version": 3
   },
   "file_extension": ".py",
   "mimetype": "text/x-python",
   "name": "python",
   "nbconvert_exporter": "python",
   "pygments_lexer": "ipython3",
   "version": "3.8.6"
  }
 },
 "nbformat": 4,
 "nbformat_minor": 4
}
